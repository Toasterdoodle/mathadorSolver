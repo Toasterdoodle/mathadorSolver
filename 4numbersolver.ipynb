{
 "cells": [
  {
   "cell_type": "code",
   "execution_count": 40,
   "id": "d577a4a2-483f-418d-9df2-25af8650832a",
   "metadata": {},
   "outputs": [],
   "source": [
    "import itertools"
   ]
  },
  {
   "cell_type": "code",
   "execution_count": 62,
   "id": "05ccd303-3e6f-48d6-893f-e062cc40d3bf",
   "metadata": {},
   "outputs": [],
   "source": [
    "# start with a list of however numbers\n",
    "def func(ints: list[int], target: int):\n",
    "    print('note: order of operations is not considered')\n",
    "    print('ops is sequential only')\n",
    "    print('if nothing is printed, assume this is impossible')\n",
    "    # can solve this recursively\n",
    "    \n",
    "    # keep running this until len(ints) becomes 0\n",
    "    # ops is a list of operators\n",
    "    # ints is a list of remaining integers to cycle through\n",
    "    # acc is the accumulator so far\n",
    "    # index keeps track of which eleemnt of ints we are looking at\n",
    "    def helper(acc: int, ints: list[int], ops: list[str], index: int):\n",
    "        \n",
    "        # ints is empty\n",
    "        if index >= len(ints):\n",
    "            if acc == target:\n",
    "                # print here\n",
    "                print('###################')\n",
    "                print(ints)\n",
    "                print(ops)\n",
    "            return\n",
    "                \n",
    "        # ints is not empty\n",
    "        # in that case, try running the 4 operators +, -, *, /\n",
    "        head = ints[index]\n",
    "        \n",
    "        helper(acc+head, ints, ops + ['+'], index+1)\n",
    "        helper(acc-head, ints, ops + ['-'], index+1)\n",
    "        helper(acc*head, ints, ops + ['*'], index+1)\n",
    "        helper(acc/head, ints, ops + ['/'], index+1)\n",
    "        \n",
    "    for perm in itertools.permutations(ints):\n",
    "        # print(perm)\n",
    "        head = perm[0]\n",
    "        helper(head, perm, [], 1)"
   ]
  },
  {
   "cell_type": "code",
   "execution_count": 63,
   "id": "6c3f3c83-a7d3-4d54-93dc-83a70eea99a0",
   "metadata": {},
   "outputs": [],
   "source": [
    "nums = [9, 9, 13, 12]\n",
    "target = 24"
   ]
  },
  {
   "cell_type": "code",
   "execution_count": 64,
   "id": "fb358dec-af23-45d1-bf2c-f2d2238118b2",
   "metadata": {},
   "outputs": [
    {
     "name": "stdout",
     "output_type": "stream",
     "text": [
      "note: order of operations is not considered\n",
      "ops is sequential only\n",
      "if nothing is printed, assume this is impossible\n",
      "###################\n",
      "(13, 9, 9, 12)\n",
      "['-', '*', '-']\n",
      "###################\n",
      "(13, 9, 9, 12)\n",
      "['-', '*', '-']\n"
     ]
    }
   ],
   "source": [
    "func(nums, target)"
   ]
  },
  {
   "cell_type": "code",
   "execution_count": null,
   "id": "b6f5e023-06d6-4fa5-bbe2-79479d96a261",
   "metadata": {},
   "outputs": [],
   "source": []
  }
 ],
 "metadata": {
  "kernelspec": {
   "display_name": "Python 3 (ipykernel)",
   "language": "python",
   "name": "python3"
  },
  "language_info": {
   "codemirror_mode": {
    "name": "ipython",
    "version": 3
   },
   "file_extension": ".py",
   "mimetype": "text/x-python",
   "name": "python",
   "nbconvert_exporter": "python",
   "pygments_lexer": "ipython3",
   "version": "3.9.7"
  }
 },
 "nbformat": 4,
 "nbformat_minor": 5
}
